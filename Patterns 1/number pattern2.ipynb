{
 "cells": [
  {
   "cell_type": "markdown",
   "metadata": {},
   "source": [
    "Number Pattern 2\n",
    "Send Feedback\n",
    "Print the following pattern for the given N number of rows.\n",
    "Pattern for N = 4\n",
    "1\n",
    "11\n",
    "202\n",
    "3003"
   ]
  },
  {
   "cell_type": "code",
   "execution_count": 3,
   "metadata": {},
   "outputs": [
    {
     "name": "stdout",
     "output_type": "stream",
     "text": [
      "10\n",
      "1\n",
      "11\n",
      "202\n",
      "3003\n",
      "40004\n",
      "500005\n",
      "6000006\n",
      "70000007\n",
      "800000008\n",
      "9000000009\n"
     ]
    }
   ],
   "source": [
    "n=int(input())\n",
    "if n==0:\n",
    "    print(1)\n",
    "for i in range(1,n+1):\n",
    "    for j in range(1,i+1):\n",
    "        if j==i and i==1:\n",
    "            print(1,end='')\n",
    "        elif j==1:\n",
    "            print(j+i-2,end='')\n",
    "        elif j==i:\n",
    "            print(i-1,end='')\n",
    "        else:\n",
    "            print(0,end='')\n",
    "    print()\n",
    "        \n",
    "    "
   ]
  }
 ],
 "metadata": {
  "kernelspec": {
   "display_name": "Python 3",
   "language": "python",
   "name": "python3"
  },
  "language_info": {
   "codemirror_mode": {
    "name": "ipython",
    "version": 3
   },
   "file_extension": ".py",
   "mimetype": "text/x-python",
   "name": "python",
   "nbconvert_exporter": "python",
   "pygments_lexer": "ipython3",
   "version": "3.8.3"
  }
 },
 "nbformat": 4,
 "nbformat_minor": 4
}
