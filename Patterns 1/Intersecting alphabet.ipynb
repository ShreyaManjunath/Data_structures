{
 "cells": [
  {
   "cell_type": "markdown",
   "metadata": {},
   "source": [
    "Code : Interesting Alphabets\n",
    "Send Feedback\n",
    "Print the following pattern for the given number of rows.\n",
    "Pattern for N = 5\n",
    "E\n",
    "DE\n",
    "CDE\n",
    "BCDE\n",
    "ABCDE"
   ]
  },
  {
   "cell_type": "code",
   "execution_count": 1,
   "metadata": {},
   "outputs": [
    {
     "name": "stdout",
     "output_type": "stream",
     "text": [
      "5\n",
      "E\n",
      "DE\n",
      "CDE\n",
      "BCDE\n",
      "ABCDE\n"
     ]
    }
   ],
   "source": [
    "n=int(input())\n",
    "for i in range(1,n+1):\n",
    "    #cal nth char\n",
    "    ch=chr(ord('A')+n-i)\n",
    "    for j in range(1,i+1):\n",
    "        ans=chr(ord(ch)+j-1)\n",
    "        print(ans,end='')\n",
    "    print()"
   ]
  }
 ],
 "metadata": {
  "kernelspec": {
   "display_name": "Python 3",
   "language": "python",
   "name": "python3"
  },
  "language_info": {
   "codemirror_mode": {
    "name": "ipython",
    "version": 3
   },
   "file_extension": ".py",
   "mimetype": "text/x-python",
   "name": "python",
   "nbconvert_exporter": "python",
   "pygments_lexer": "ipython3",
   "version": "3.8.3"
  }
 },
 "nbformat": 4,
 "nbformat_minor": 4
}
