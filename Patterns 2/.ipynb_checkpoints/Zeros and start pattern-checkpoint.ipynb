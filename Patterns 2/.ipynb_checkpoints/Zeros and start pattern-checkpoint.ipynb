{
 "cells": [
  {
   "cell_type": "markdown",
   "metadata": {},
   "source": [
    "Zeros and Stars Pattern\n",
    "Send Feedback\n",
    "Print the following pattern\n",
    "Pattern for N = 4\n",
    "*000*000*\n",
    "0*00*00*0\n",
    "00*0*0*00\n",
    "000***000"
   ]
  },
  {
   "cell_type": "code",
   "execution_count": 5,
   "metadata": {},
   "outputs": [
    {
     "name": "stdout",
     "output_type": "stream",
     "text": [
      "8\n",
      "*0000000*0000000*\n",
      "0*000000*000000*0\n",
      "00*00000*00000*00\n",
      "000*0000*0000*000\n",
      "0000*000*000*0000\n",
      "00000*00*00*00000\n",
      "000000*0*0*000000\n",
      "0000000***0000000\n"
     ]
    }
   ],
   "source": [
    "n=int(input())\n",
    "for i in range(1,n+1):\n",
    "    for j in range(1,2*n+2):\n",
    "        if i==j:\n",
    "            print(\"*\",end='')\n",
    "        elif j==n+1 or j==2*n+2-i:\n",
    "            print(\"*\",end='')\n",
    "        else:\n",
    "            print(0,end='')\n",
    "    print()"
   ]
  }
 ],
 "metadata": {
  "kernelspec": {
   "display_name": "Python 3",
   "language": "python",
   "name": "python3"
  },
  "language_info": {
   "codemirror_mode": {
    "name": "ipython",
    "version": 3
   },
   "file_extension": ".py",
   "mimetype": "text/x-python",
   "name": "python",
   "nbconvert_exporter": "python",
   "pygments_lexer": "ipython3",
   "version": "3.8.3"
  }
 },
 "nbformat": 4,
 "nbformat_minor": 4
}
