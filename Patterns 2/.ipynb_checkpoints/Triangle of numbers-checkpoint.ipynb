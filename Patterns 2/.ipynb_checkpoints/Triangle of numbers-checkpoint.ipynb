{
 "cells": [
  {
   "cell_type": "markdown",
   "metadata": {},
   "source": [
    "Code : Triangle of Numbers\n",
    "Send Feedback\n",
    "Print the following pattern for the given number of rows.\n",
    "Sample Input 1:\n",
    "5\n",
    "Sample Output 1:\n",
    "           1\n",
    "          232\n",
    "         34543\n",
    "        4567654\n",
    "       567898765"
   ]
  },
  {
   "cell_type": "code",
   "execution_count": 5,
   "metadata": {},
   "outputs": [
    {
     "name": "stdout",
     "output_type": "stream",
     "text": [
      "5\n",
      "    1\n",
      "   232\n",
      "  34543\n",
      " 4567654\n",
      "567898765\n"
     ]
    }
   ],
   "source": [
    "n=int(input())\n",
    "for i in range(1,n+1):\n",
    "    sp=n-i\n",
    "    for j in range(n-i):\n",
    "        print(\" \",end='')\n",
    "        sp-=1\n",
    "    m=i\n",
    "    for k in range(i):\n",
    "        print(m,end='')\n",
    "        m+=1\n",
    "    q=2*i-2\n",
    "    for p in range(i-1):\n",
    "        print(q,end='')\n",
    "        q-=1\n",
    "    print()\n",
    "        \n",
    "        "
   ]
  }
 ],
 "metadata": {
  "kernelspec": {
   "display_name": "Python 3",
   "language": "python",
   "name": "python3"
  },
  "language_info": {
   "codemirror_mode": {
    "name": "ipython",
    "version": 3
   },
   "file_extension": ".py",
   "mimetype": "text/x-python",
   "name": "python",
   "nbconvert_exporter": "python",
   "pygments_lexer": "ipython3",
   "version": "3.8.3"
  }
 },
 "nbformat": 4,
 "nbformat_minor": 4
}
