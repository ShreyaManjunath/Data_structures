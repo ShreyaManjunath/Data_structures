{
 "cells": [
  {
   "cell_type": "markdown",
   "metadata": {},
   "source": [
    "Code : Mirror Number Pattern\n",
    "Send Feedback\n",
    "Print the following pattern for the given N number of rows.\n",
    "Sample Input 1:\n",
    "3\n",
    "Sample Output 1:\n",
    "    1 \n",
    "   12\n",
    "  123"
   ]
  },
  {
   "cell_type": "code",
   "execution_count": 4,
   "metadata": {},
   "outputs": [
    {
     "name": "stdout",
     "output_type": "stream",
     "text": [
      "8\n",
      "       1\n",
      "      12\n",
      "     123\n",
      "    1234\n",
      "   12345\n",
      "  123456\n",
      " 1234567\n",
      "12345678\n"
     ]
    }
   ],
   "source": [
    "n=int(input())\n",
    "for i in range(1,n+1):\n",
    "    sp=n-i\n",
    "    for j in range(n-i):\n",
    "        print(\" \",end='')\n",
    "        sp-=1\n",
    "    v=1\n",
    "    for k in range(i):\n",
    "        print(v,end='')\n",
    "        v+=1\n",
    "    print()"
   ]
  }
 ],
 "metadata": {
  "kernelspec": {
   "display_name": "Python 3",
   "language": "python",
   "name": "python3"
  },
  "language_info": {
   "codemirror_mode": {
    "name": "ipython",
    "version": 3
   },
   "file_extension": ".py",
   "mimetype": "text/x-python",
   "name": "python",
   "nbconvert_exporter": "python",
   "pygments_lexer": "ipython3",
   "version": "3.8.3"
  }
 },
 "nbformat": 4,
 "nbformat_minor": 4
}
