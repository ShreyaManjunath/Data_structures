{
 "cells": [
  {
   "cell_type": "markdown",
   "metadata": {},
   "source": [
    "Code : Diamond of stars\n",
    "Send Feedback\n",
    "Print the following pattern for the given number of rows.\n",
    "Sample Input 1:\n",
    "5\n",
    "Sample Output 1:\n",
    "  *\n",
    " ***\n",
    "*****\n",
    " ***\n",
    "  *"
   ]
  },
  {
   "cell_type": "code",
   "execution_count": 20,
   "metadata": {},
   "outputs": [
    {
     "name": "stdout",
     "output_type": "stream",
     "text": [
      "7\n",
      "   *\n",
      "  ***\n",
      " *****\n",
      "*******\n",
      " *****\n",
      "  ***\n",
      "   *\n"
     ]
    }
   ],
   "source": [
    "n=int(input())\n",
    "f=(n+1)//2\n",
    "s=n//2\n",
    "#first half\n",
    "for i in range(1,f+1):\n",
    "    sp=n-i\n",
    "    for j in range(f-i):\n",
    "        print(\" \",end='')\n",
    "        sp-=1\n",
    "    for k in range(i-1):\n",
    "        print(\"*\",end='')\n",
    "    for m in range(i):\n",
    "        print(\"*\",end='')\n",
    "    print()\n",
    "#second half\n",
    "j=s\n",
    "while j>=1:\n",
    "    sp=1\n",
    "    while sp<=s-j+1:\n",
    "        print(\" \",end='')\n",
    "        sp+=1\n",
    "    col=1\n",
    "    while col<=2*j-1:\n",
    "        print(\"*\",end='')\n",
    "        col+=1\n",
    "    print()\n",
    "    j-=1\n",
    "    \n",
    "    \n",
    "        "
   ]
  }
 ],
 "metadata": {
  "kernelspec": {
   "display_name": "Python 3",
   "language": "python",
   "name": "python3"
  },
  "language_info": {
   "codemirror_mode": {
    "name": "ipython",
    "version": 3
   },
   "file_extension": ".py",
   "mimetype": "text/x-python",
   "name": "python",
   "nbconvert_exporter": "python",
   "pygments_lexer": "ipython3",
   "version": "3.8.3"
  }
 },
 "nbformat": 4,
 "nbformat_minor": 4
}
