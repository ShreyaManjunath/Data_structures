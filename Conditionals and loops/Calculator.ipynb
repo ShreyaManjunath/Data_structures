{
 "cells": [
  {
   "cell_type": "markdown",
   "metadata": {},
   "source": [
    "Write a program that performs the tasks of a simple calculator. The program should first take an integer as input and then based on that integer perform the task as given below.\n",
    "1. If the input is 1, 2 integers are taken from the user and their sum is printed.\n",
    "2. If the input is 2, 2 integers are taken from the user and their difference(1st number - 2nd number) is printed.\n",
    "3. If the input is 3, 2 integers are taken from the user and their product is printed.\n",
    "4. If the input is 4, 2 integers are taken from the user and the quotient obtained (on dividing 1st number by 2nd number) is printed.\n",
    "5. If the input is 5, 2 integers are taken from the user and their remainder(1st number mod 2nd number) is printed.\n",
    "6. If the input is 6, the program exits.\n",
    "7. For any other input, print \"Invalid Operation\"."
   ]
  },
  {
   "cell_type": "code",
   "execution_count": null,
   "metadata": {},
   "outputs": [],
   "source": [
    "import sys\n",
    "while True:\n",
    "    n=int(input())\n",
    "    if n==1:\n",
    "        a=int(input())\n",
    "        b=int(input())\n",
    "        print(a+b)\n",
    "    elif\n",
    "        a=int(input())\n",
    "        b=int(input())\n",
    "        print(a-b)\n",
    "    if n==3:\n",
    "        a=int(input())\n",
    "        b=int(input())\n",
    "        print(a*b)\n",
    "    if n==4:\n",
    "        a=int(input())\n",
    "        b=int(input())\n",
    "        print(a//b)\n",
    "    if n==5:\n",
    "        a=int(input())\n",
    "        b=int(input())\n",
    "        print(a%b)\n",
    "    if n==6:\n",
    "        sys.exit(0)\n",
    "    if n>6:\n",
    "        print(\"Invalid operation\")\n",
    "    \n",
    "    "
   ]
  }
 ],
 "metadata": {
  "kernelspec": {
   "display_name": "Python 3",
   "language": "python",
   "name": "python3"
  },
  "language_info": {
   "codemirror_mode": {
    "name": "ipython",
    "version": 3
   },
   "file_extension": ".py",
   "mimetype": "text/x-python",
   "name": "python",
   "nbconvert_exporter": "python",
   "pygments_lexer": "ipython3",
   "version": "3.8.3"
  }
 },
 "nbformat": 4,
 "nbformat_minor": 4
}
