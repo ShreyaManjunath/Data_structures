{
 "cells": [
  {
   "cell_type": "markdown",
   "metadata": {},
   "source": [
    "Tower Of Hanoi - Problem\n",
    "Send Feedback\n",
    "Tower of Hanoi is a mathematical puzzle where we have three rods and n disks. The objective of the puzzle is to move all disks from source rod to destination rod using third rod (say auxiliary). The rules are :\n",
    "1) Only one disk can be moved at a time.\n",
    "2) A disk can be moved only if it is on the top of a rod.\n",
    "3) No disk can be placed on the top of a smaller disk.\n",
    "Print the steps required to move n disks from source rod to destination rod.\n",
    "Source Rod is named as 'a', auxiliary rod as 'b' and destination rod as 'c'.\n",
    "\n",
    "Sample Input 1 :\n",
    "2\n",
    "Sample Output 1 :\n",
    "a b\n",
    "a c\n",
    "b c"
   ]
  },
  {
   "cell_type": "code",
   "execution_count": 5,
   "metadata": {},
   "outputs": [
    {
     "name": "stdout",
     "output_type": "stream",
     "text": [
      "4\n",
      "a b\n",
      "a c\n",
      "b c\n",
      "a b\n",
      "c a\n",
      "c b\n",
      "a b\n",
      "a c\n",
      "b c\n",
      "b a\n",
      "c a\n",
      "b c\n",
      "a b\n",
      "a c\n",
      "b c\n"
     ]
    }
   ],
   "source": [
    "n=int(input())\n",
    "\n",
    "def tower(n,source,aux,des):\n",
    "    if n==0 or n==1:\n",
    "        print(source,des)\n",
    "        return\n",
    "    tower(n-1,source,des,aux)\n",
    "    print(source,des)\n",
    "    tower(n-1,aux,source,des)\n",
    "tower(n,'a','b','c')"
   ]
  },
  {
   "cell_type": "code",
   "execution_count": null,
   "metadata": {},
   "outputs": [],
   "source": []
  }
 ],
 "metadata": {
  "kernelspec": {
   "display_name": "Python 3",
   "language": "python",
   "name": "python3"
  },
  "language_info": {
   "codemirror_mode": {
    "name": "ipython",
    "version": 3
   },
   "file_extension": ".py",
   "mimetype": "text/x-python",
   "name": "python",
   "nbconvert_exporter": "python",
   "pygments_lexer": "ipython3",
   "version": "3.8.3"
  }
 },
 "nbformat": 4,
 "nbformat_minor": 4
}
