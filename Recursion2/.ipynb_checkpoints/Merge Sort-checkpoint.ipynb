{
 "cells": [
  {
   "cell_type": "markdown",
   "metadata": {},
   "source": [
    "Merge Sort Code\n",
    "Send Feedback\n",
    "Sort an array A using Merge Sort.\n",
    "Change in the input array itself. So no need to return or print anything.\n",
    "Input format :\n",
    "Line 1 : Integer n i.e. Array size\n",
    "Line 2 : Array elements (separated by space)\n",
    "Output format :\n",
    "Array elements in increasing order (separated by space)"
   ]
  },
  {
   "cell_type": "code",
   "execution_count": 21,
   "metadata": {},
   "outputs": [
    {
     "name": "stdout",
     "output_type": "stream",
     "text": [
      "3 2 1 4\n",
      "1 2 3 4\n"
     ]
    }
   ],
   "source": [
    "def merge(a1,a2,arr):\n",
    "    i=0\n",
    "    j=0\n",
    "    k=0\n",
    "    while i<len(a1) and j<len(a2):\n",
    "        if a1[i]<a2[j]:\n",
    "            arr[k]=a1[i]\n",
    "            k+=1\n",
    "            i+=1\n",
    "        else:\n",
    "            arr[k]=a2[j]\n",
    "            k+=1\n",
    "            j+=1\n",
    "    if i<len(a1):\n",
    "        arr[k]=a1[i]\n",
    "        k+=1\n",
    "        i+=1\n",
    "    if j<len(a2):\n",
    "        arr[k]=a2[j]\n",
    "        k+1\n",
    "        j+=1\n",
    "        \n",
    "\n",
    "def MergeSort(arr):\n",
    "    if len(arr)==0 or len(arr)==1:\n",
    "        return \n",
    "    mid=len(arr)//2\n",
    "    a1=arr[:mid]\n",
    "    a2=arr[mid:]\n",
    "    MergeSort(a1)\n",
    "    MergeSort(a2)\n",
    "    merge(a1,a2,arr)\n",
    "\n",
    "arr=[int(x) for x in input().split()]\n",
    "MergeSort(arr)\n",
    "print(*arr)"
   ]
  },
  {
   "cell_type": "code",
   "execution_count": null,
   "metadata": {},
   "outputs": [],
   "source": []
  }
 ],
 "metadata": {
  "kernelspec": {
   "display_name": "Python 3",
   "language": "python",
   "name": "python3"
  },
  "language_info": {
   "codemirror_mode": {
    "name": "ipython",
    "version": 3
   },
   "file_extension": ".py",
   "mimetype": "text/x-python",
   "name": "python",
   "nbconvert_exporter": "python",
   "pygments_lexer": "ipython3",
   "version": "3.8.3"
  }
 },
 "nbformat": 4,
 "nbformat_minor": 4
}
