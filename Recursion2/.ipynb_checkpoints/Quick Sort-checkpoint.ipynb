{
 "cells": [
  {
   "cell_type": "markdown",
   "metadata": {},
   "source": [
    "Quick Sort Code\n",
    "\n",
    "Sort an array A using Quick Sort.\n",
    "Change in the input array itself. So no need to return or print anything.\n",
    "\n",
    "\n",
    "Input format :\n",
    "Line 1 : Integer n i.e. Array size\n",
    "Line 2 : Array elements (separated by space)\n",
    "Output format :\n",
    "Array elements in increasing order (separated by space)"
   ]
  },
  {
   "cell_type": "code",
   "execution_count": 2,
   "metadata": {},
   "outputs": [
    {
     "name": "stdout",
     "output_type": "stream",
     "text": [
      "4 5 6 3 2 6 \n",
      "2 3 4 5 6 6\n"
     ]
    }
   ],
   "source": [
    "arr=[int(x) for x in input().split()]\n",
    "\n",
    "def partition(arr,si,ei):\n",
    "    p=arr[0]\n",
    "    count=0\n",
    "    for i in range(len(arr)):\n",
    "        if arr[i]<p:\n",
    "            count+=1\n",
    "    arr[si+count],arr[si]=arr[si],arr[si+count]\n",
    "    i=si\n",
    "    j=ei\n",
    "    pivot_ind=si+count\n",
    "    while i<j:\n",
    "        if arr[i]<p:\n",
    "            i+=1\n",
    "        elif arr[j]>p:\n",
    "            j-=1\n",
    "        else:\n",
    "            arr[i],arr[j]=arr[j],arr[i]\n",
    "            i+=1\n",
    "            j-=1\n",
    "    return pivot_ind\n",
    "def QuickSort(arr,start,end):\n",
    "    if start>=end:\n",
    "        return \n",
    "    pivot=partition(arr,start,end)\n",
    "    QuickSort(arr,start,pivot-1)\n",
    "    QuickSort(arr,pivot+1,end)\n",
    "QuickSort(arr,0,len(arr)-1)\n",
    "print(*arr)"
   ]
  },
  {
   "cell_type": "code",
   "execution_count": null,
   "metadata": {},
   "outputs": [],
   "source": []
  }
 ],
 "metadata": {
  "kernelspec": {
   "display_name": "Python 3",
   "language": "python",
   "name": "python3"
  },
  "language_info": {
   "codemirror_mode": {
    "name": "ipython",
    "version": 3
   },
   "file_extension": ".py",
   "mimetype": "text/x-python",
   "name": "python",
   "nbconvert_exporter": "python",
   "pygments_lexer": "ipython3",
   "version": "3.8.3"
  }
 },
 "nbformat": 4,
 "nbformat_minor": 4
}
