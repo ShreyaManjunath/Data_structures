{
 "cells": [
  {
   "cell_type": "markdown",
   "metadata": {},
   "source": [
    "Remove X\n",
    "\n",
    "Given a string, compute recursively a new string where all 'x' chars have been removed.\n",
    "\n",
    "Sample Input 2 :\n",
    "abc\n",
    "Sample Output 2:\n",
    "abc\n",
    "Sample Input 3 :\n",
    "xx"
   ]
  },
  {
   "cell_type": "code",
   "execution_count": 3,
   "metadata": {},
   "outputs": [
    {
     "name": "stdout",
     "output_type": "stream",
     "text": [
      "xxa\n",
      "a\n"
     ]
    }
   ],
   "source": [
    "str=input()\n",
    "def Remove_X(str):\n",
    "    if len(str)==0:\n",
    "        return strS\n",
    "    smallstr=Remove_X(str[1:])\n",
    "    if str[0]=='x':\n",
    "        return smallstr\n",
    "    else:\n",
    "        return str[0]+smallstr\n",
    "print(Remove_X(str))"
   ]
  },
  {
   "cell_type": "code",
   "execution_count": null,
   "metadata": {},
   "outputs": [],
   "source": []
  }
 ],
 "metadata": {
  "kernelspec": {
   "display_name": "Python 3",
   "language": "python",
   "name": "python3"
  },
  "language_info": {
   "codemirror_mode": {
    "name": "ipython",
    "version": 3
   },
   "file_extension": ".py",
   "mimetype": "text/x-python",
   "name": "python",
   "nbconvert_exporter": "python",
   "pygments_lexer": "ipython3",
   "version": "3.8.3"
  }
 },
 "nbformat": 4,
 "nbformat_minor": 4
}
